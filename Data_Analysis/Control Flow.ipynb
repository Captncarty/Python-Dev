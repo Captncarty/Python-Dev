{
 "cells": [
  {
   "cell_type": "code",
   "execution_count": 44,
   "id": "90289a9e-784a-4264-81e5-0c565c6bcd1a",
   "metadata": {},
   "outputs": [],
   "source": [
    "set_to_true = True\n",
    "set_to_false = False # Using Bool to create a bolean variable"
   ]
  },
  {
   "cell_type": "code",
   "execution_count": 45,
   "id": "7c3a63fc-fa0f-4ead-97f7-55979d4f69e7",
   "metadata": {},
   "outputs": [
    {
     "data": {
      "text/plain": [
       "True"
      ]
     },
     "execution_count": 45,
     "metadata": {},
     "output_type": "execute_result"
    }
   ],
   "source": [
    "set_to_true"
   ]
  },
  {
   "cell_type": "code",
   "execution_count": 46,
   "id": "163f9c09-6862-4bb2-ba4f-6f4bde82588a",
   "metadata": {},
   "outputs": [
    {
     "data": {
      "text/plain": [
       "False"
      ]
     },
     "execution_count": 46,
     "metadata": {},
     "output_type": "execute_result"
    }
   ],
   "source": [
    "set_to_false"
   ]
  },
  {
   "cell_type": "code",
   "execution_count": 47,
   "id": "6ba2515f-e85e-4ae0-be9c-c6c055d202f1",
   "metadata": {},
   "outputs": [
    {
     "name": "stdout",
     "output_type": "stream",
     "text": [
      "True\n",
      "False\n",
      "True\n",
      "<class 'bool'>\n"
     ]
    }
   ],
   "source": [
    "bool_one = 5 != 7\n",
    "bool_two = 1 + 1 != 2\n",
    "bool_three = 3 * 3 == 9\n",
    "\n",
    "print(bool_one)   \n",
    "print(bool_two)    \n",
    "print(bool_three)  # creating a bolean variable\n",
    "print(type(bool_three))"
   ]
  },
  {
   "cell_type": "markdown",
   "id": "6ce4c82a-c4f5-41cc-ad9a-5b0c47ffd391",
   "metadata": {},
   "source": [
    "- Boolean variables are the building blocks of CONDITIONAL STATEMENTS!\n",
    "- Relational operators\n",
    "- Boolean operators"
   ]
  },
  {
   "cell_type": "code",
   "execution_count": 48,
   "id": "693b851d-4e62-4d7c-9cf2-6d39e8e0a99a",
   "metadata": {},
   "outputs": [
    {
     "name": "stdout",
     "output_type": "stream",
     "text": [
      "watever\n"
     ]
    }
   ],
   "source": [
    "if bool_one == bool_three:\n",
    "    print('watever')        #Both are True"
   ]
  },
  {
   "cell_type": "code",
   "execution_count": 49,
   "id": "39d80036-3493-4fe2-8025-ecb58dd87d53",
   "metadata": {},
   "outputs": [
    {
     "data": {
      "text/plain": [
       "False"
      ]
     },
     "execution_count": 49,
     "metadata": {},
     "output_type": "execute_result"
    }
   ],
   "source": [
    "(2 + 2 + 2 >= 6) and (-1 * -1 < 0)"
   ]
  },
  {
   "cell_type": "code",
   "execution_count": 50,
   "id": "74a08f4d-d4e1-493f-836b-e37231de85e9",
   "metadata": {},
   "outputs": [
    {
     "data": {
      "text/plain": [
       "True"
      ]
     },
     "execution_count": 50,
     "metadata": {},
     "output_type": "execute_result"
    }
   ],
   "source": [
    "(4 * 2 <= 8) and (7 - 1 == 6)"
   ]
  },
  {
   "cell_type": "code",
   "execution_count": 51,
   "id": "b65eb081-9ddb-4634-8294-a5f023967f3e",
   "metadata": {},
   "outputs": [
    {
     "data": {
      "text/plain": [
       "True"
      ]
     },
     "execution_count": 51,
     "metadata": {},
     "output_type": "execute_result"
    }
   ],
   "source": [
    "(2 - 1 > 3) or (-5 * 2 == -10)"
   ]
  },
  {
   "cell_type": "code",
   "execution_count": 52,
   "id": "55a0e946-19f8-4494-b099-6808b2c0e05d",
   "metadata": {},
   "outputs": [
    {
     "data": {
      "text/plain": [
       "True"
      ]
     },
     "execution_count": 52,
     "metadata": {},
     "output_type": "execute_result"
    }
   ],
   "source": [
    "(9 + 5 <= 15) or (7 != 4 + 3)"
   ]
  },
  {
   "cell_type": "code",
   "execution_count": 53,
   "id": "8bf10930-d5eb-41a6-ba30-da6a092df792",
   "metadata": {},
   "outputs": [
    {
     "data": {
      "text/plain": [
       "False"
      ]
     },
     "execution_count": 53,
     "metadata": {},
     "output_type": "execute_result"
    }
   ],
   "source": [
    "not 1+1==2  #should be True"
   ]
  },
  {
   "cell_type": "code",
   "execution_count": 54,
   "id": "c9e4cb5b-db0c-4955-9b24-b6a195bc6940",
   "metadata": {},
   "outputs": [
    {
     "data": {
      "text/plain": [
       "True"
      ]
     },
     "execution_count": 54,
     "metadata": {},
     "output_type": "execute_result"
    }
   ],
   "source": [
    "not 7 < 0 #should be False"
   ]
  },
  {
   "cell_type": "code",
   "execution_count": 55,
   "id": "2b667ec6-f9b2-4073-b534-9d0336cce910",
   "metadata": {},
   "outputs": [
    {
     "data": {
      "text/plain": [
       "True"
      ]
     },
     "execution_count": 55,
     "metadata": {},
     "output_type": "execute_result"
    }
   ],
   "source": [
    "not (8 * 2) != 20 - 4"
   ]
  },
  {
   "cell_type": "code",
   "execution_count": 69,
   "id": "1d3989bb-cd92-4ebe-8496-1590f7a33929",
   "metadata": {},
   "outputs": [
    {
     "name": "stdout",
     "output_type": "stream",
     "text": [
      "You do not have enough credits to graduate.\n"
     ]
    }
   ],
   "source": [
    "credits = 112\n",
    "gpa = 2.0\n",
    "if not credits >= 120:\n",
    "    print(\"You do not have enough credits to graduate.\")"
   ]
  },
  {
   "cell_type": "code",
   "execution_count": 77,
   "id": "7333e1b6-433c-40ae-baab-39b1091797a5",
   "metadata": {},
   "outputs": [
    {
     "name": "stdout",
     "output_type": "stream",
     "text": [
      "You do not meet either requirement to graduate!\n"
     ]
    }
   ],
   "source": [
    "if not credits >= 120 and not gpa >= 4.0:\n",
    "    print(\"You do not meet either requirement to graduate!\")"
   ]
  },
  {
   "cell_type": "code",
   "execution_count": 73,
   "id": "0f67bdf7-5a56-4b9c-8ef1-6b9360fcd111",
   "metadata": {},
   "outputs": [],
   "source": [
    "if not gpa >= 2.0:\n",
    "    print(\"Your GPA is not high enough to graduate.\")"
   ]
  },
  {
   "cell_type": "code",
   "execution_count": 88,
   "id": "f47e6b65-8cb6-463d-a6e8-38d5c88dbeca",
   "metadata": {},
   "outputs": [
    {
     "name": "stdout",
     "output_type": "stream",
     "text": [
      "weekend\n"
     ]
    }
   ],
   "source": [
    "weekday = ('sat')\n",
    "if weekday == 'mon':\n",
    "    print('workday')\n",
    "elif weekday == 'tues':\n",
    "    print('new week')\n",
    "else:\n",
    "    print('weekend')"
   ]
  },
  {
   "cell_type": "code",
   "execution_count": 90,
   "id": "e0beb524-b891-4ab6-8fb2-6204269a0317",
   "metadata": {},
   "outputs": [],
   "source": [
    "Altheda = 'Girl'\n",
    "Fremont = 'Boy'\n",
    "Audrey = 'girl'"
   ]
  },
  {
   "cell_type": "code",
   "execution_count": 111,
   "id": "f7325dd8-4ee7-4573-80ed-cba687f45256",
   "metadata": {},
   "outputs": [
    {
     "name": "stdout",
     "output_type": "stream",
     "text": [
      "yes\n"
     ]
    }
   ],
   "source": [
    "if Audrey == 'girl' and Fremont == 'Boy' and Altheda == 'Girl':\n",
    "    print('yes')\n",
    "else:\n",
    "    print(\"NO\")"
   ]
  },
  {
   "cell_type": "code",
   "execution_count": 109,
   "id": "687b2f44-dba3-459c-ab06-012430d09082",
   "metadata": {},
   "outputs": [
    {
     "name": "stdout",
     "output_type": "stream",
     "text": [
      "Thank you for the donation!\n",
      "You've achieved gold donor status\n"
     ]
    }
   ],
   "source": [
    "donation = 700\n",
    "print(\"Thank you for the donation!\")\n",
    "if donation >= 1000:\n",
    "  print(\"You've achieved platinum status\")\n",
    "elif donation >= 500:\n",
    "  print(\"You've achieved gold donor status\")\n",
    "elif donation >= 100:\n",
    "  print(\"You've achieved silver donor status\")\n",
    "else:\n",
    "  print(\"You've achieved bronze donor status\")"
   ]
  },
  {
   "cell_type": "code",
   "execution_count": 108,
   "id": "27ecfc39-f5e4-4565-9fe2-6f566a92e720",
   "metadata": {},
   "outputs": [
    {
     "name": "stdout",
     "output_type": "stream",
     "text": [
      "invalid input\n"
     ]
    }
   ],
   "source": [
    "password = 'kingkong'\n",
    "\n",
    "\n",
    "if password == 'kingkon':\n",
    "    print(\"Welcome\")\n",
    "else:\n",
    "    print('invalid input')"
   ]
  },
  {
   "cell_type": "code",
   "execution_count": 112,
   "id": "009807db-b289-4ca9-ba41-71f21b989810",
   "metadata": {},
   "outputs": [],
   "source": [
    "import tensorflow as tf"
   ]
  },
  {
   "cell_type": "code",
   "execution_count": 113,
   "id": "bb773ab1-a3fe-4c3d-bcc0-a4cdc6805aa1",
   "metadata": {},
   "outputs": [],
   "source": [
    "import numpy as np"
   ]
  },
  {
   "cell_type": "code",
   "execution_count": 135,
   "id": "e55f6094-b133-49e7-90d0-cbffdcfe7e14",
   "metadata": {},
   "outputs": [],
   "source": [
    "x = tf.ones([3,2,3])"
   ]
  },
  {
   "cell_type": "code",
   "execution_count": 136,
   "id": "1376dbb5-82f5-429e-a0ef-4a440504568a",
   "metadata": {},
   "outputs": [
    {
     "data": {
      "text/plain": [
       "<tf.Tensor: shape=(3, 2, 3), dtype=float32, numpy=\n",
       "array([[[1., 1., 1.],\n",
       "        [1., 1., 1.]],\n",
       "\n",
       "       [[1., 1., 1.],\n",
       "        [1., 1., 1.]],\n",
       "\n",
       "       [[1., 1., 1.],\n",
       "        [1., 1., 1.]]], dtype=float32)>"
      ]
     },
     "execution_count": 136,
     "metadata": {},
     "output_type": "execute_result"
    }
   ],
   "source": [
    "x"
   ]
  },
  {
   "cell_type": "code",
   "execution_count": 137,
   "id": "366876ae-a233-42bb-a452-3a69d1df0230",
   "metadata": {},
   "outputs": [],
   "source": [
    "y = tf.zeros([3,3,3])"
   ]
  },
  {
   "cell_type": "code",
   "execution_count": 138,
   "id": "cd8d7031-2085-4b87-afe3-bb0067b5e597",
   "metadata": {},
   "outputs": [
    {
     "data": {
      "text/plain": [
       "<tf.Tensor: shape=(3, 3, 3), dtype=float32, numpy=\n",
       "array([[[0., 0., 0.],\n",
       "        [0., 0., 0.],\n",
       "        [0., 0., 0.]],\n",
       "\n",
       "       [[0., 0., 0.],\n",
       "        [0., 0., 0.],\n",
       "        [0., 0., 0.]],\n",
       "\n",
       "       [[0., 0., 0.],\n",
       "        [0., 0., 0.],\n",
       "        [0., 0., 0.]]], dtype=float32)>"
      ]
     },
     "execution_count": 138,
     "metadata": {},
     "output_type": "execute_result"
    }
   ],
   "source": [
    "y"
   ]
  },
  {
   "cell_type": "code",
   "execution_count": null,
   "id": "ad6dcbe3-366d-47fb-8d90-a054600da13b",
   "metadata": {},
   "outputs": [],
   "source": []
  },
  {
   "cell_type": "code",
   "execution_count": null,
   "id": "f7100802-2bd2-4615-994c-641f1825f349",
   "metadata": {},
   "outputs": [],
   "source": []
  }
 ],
 "metadata": {
  "kernelspec": {
   "display_name": "Python 3 (ipykernel)",
   "language": "python",
   "name": "python3"
  },
  "language_info": {
   "codemirror_mode": {
    "name": "ipython",
    "version": 3
   },
   "file_extension": ".py",
   "mimetype": "text/x-python",
   "name": "python",
   "nbconvert_exporter": "python",
   "pygments_lexer": "ipython3",
   "version": "3.9.7"
  }
 },
 "nbformat": 4,
 "nbformat_minor": 5
}
