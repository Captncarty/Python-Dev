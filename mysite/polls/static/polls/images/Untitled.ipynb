{
 "cells": [
  {
   "cell_type": "code",
   "execution_count": 2,
   "id": "dcf4d399",
   "metadata": {},
   "outputs": [],
   "source": [
    "class a:\n",
    "    '''hungry'''"
   ]
  },
  {
   "cell_type": "code",
   "execution_count": 12,
   "id": "a3b268ed",
   "metadata": {},
   "outputs": [
    {
     "ename": "AttributeError",
     "evalue": "'str' object has no attribute 'setColor'",
     "output_type": "error",
     "traceback": [
      "\u001b[0;31m---------------------------------------------------------------------------\u001b[0m",
      "\u001b[0;31mAttributeError\u001b[0m                            Traceback (most recent call last)",
      "\u001b[0;32m/var/folders/j3/csv3d2y55p5dz29j8lgrj_x80000gn/T/ipykernel_17095/165125516.py\u001b[0m in \u001b[0;36m<module>\u001b[0;34m\u001b[0m\n\u001b[1;32m      8\u001b[0m     \u001b[0;32mdef\u001b[0m \u001b[0mgetColor\u001b[0m\u001b[0;34m(\u001b[0m\u001b[0mself\u001b[0m\u001b[0;34m)\u001b[0m\u001b[0;34m:\u001b[0m\u001b[0;34m\u001b[0m\u001b[0;34m\u001b[0m\u001b[0m\n\u001b[1;32m      9\u001b[0m         \u001b[0;32mreturn\u001b[0m \u001b[0mself\u001b[0m\u001b[0;34m.\u001b[0m\u001b[0mcolor\u001b[0m\u001b[0;34m\u001b[0m\u001b[0;34m\u001b[0m\u001b[0m\n\u001b[0;32m---> 10\u001b[0;31m \u001b[0mobj\u001b[0m\u001b[0;34m.\u001b[0m\u001b[0msetColor\u001b[0m\u001b[0;34m(\u001b[0m\u001b[0;34m'brown'\u001b[0m\u001b[0;34m)\u001b[0m\u001b[0;34m\u001b[0m\u001b[0;34m\u001b[0m\u001b[0m\n\u001b[0m",
      "\u001b[0;31mAttributeError\u001b[0m: 'str' object has no attribute 'setColor'"
     ]
    }
   ],
   "source": [
    "class dog:\n",
    "    a = 'gold'\n",
    "    b = 'hold'\n",
    "    def __init__(self, breed):\n",
    "        self.breed = breed\n",
    "    def setColor(self, color):\n",
    "        self.color = color\n",
    "    def getColor(self):\n",
    "        return self.color\n",
    "obj.setColor('brown')"
   ]
  },
  {
   "cell_type": "markdown",
   "id": "2bbd7552",
   "metadata": {},
   "source": [
    "Example:1"
   ]
  },
  {
   "cell_type": "code",
   "execution_count": 15,
   "id": "9a2542de",
   "metadata": {},
   "outputs": [
    {
     "ename": "SyntaxError",
     "evalue": "invalid syntax (2929550899.py, line 6)",
     "output_type": "error",
     "traceback": [
      "\u001b[0;36m  File \u001b[0;32m\"/var/folders/j3/csv3d2y55p5dz29j8lgrj_x80000gn/T/ipykernel_17095/2929550899.py\"\u001b[0;36m, line \u001b[0;32m6\u001b[0m\n\u001b[0;31m    body of method\u001b[0m\n\u001b[0m         ^\u001b[0m\n\u001b[0;31mSyntaxError\u001b[0m\u001b[0;31m:\u001b[0m invalid syntax\n"
     ]
    }
   ],
   "source": [
    "\n",
    "class Hello(object):\n",
    "    def __init__(self):\n",
    "        self.variable_name =value\n",
    "        self.variable_name ='value'\n",
    "        def function1(self):\n",
    "            body of method\n",
    "        def function2(self):\n",
    "            body of method"
   ]
  },
  {
   "cell_type": "code",
   "execution_count": null,
   "id": "5790bc3b",
   "metadata": {},
   "outputs": [],
   "source": []
  }
 ],
 "metadata": {
  "kernelspec": {
   "display_name": "Python 3 (ipykernel)",
   "language": "python",
   "name": "python3"
  },
  "language_info": {
   "codemirror_mode": {
    "name": "ipython",
    "version": 3
   },
   "file_extension": ".py",
   "mimetype": "text/x-python",
   "name": "python",
   "nbconvert_exporter": "python",
   "pygments_lexer": "ipython3",
   "version": "3.9.7"
  }
 },
 "nbformat": 4,
 "nbformat_minor": 5
}
